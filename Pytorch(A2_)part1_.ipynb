{
  "nbformat": 4,
  "nbformat_minor": 0,
  "metadata": {
    "colab": {
      "provenance": []
    },
    "kernelspec": {
      "name": "python3",
      "display_name": "Python 3"
    },
    "language_info": {
      "name": "python"
    }
  },
  "cells": [
    {
      "cell_type": "markdown",
      "source": [
        "\n",
        "->Handles multidimension data\n",
        "-> GPU Acceleration and Numerical computation'\n",
        "-> can hav diff no of dim, determines the rank.\n",
        "->1d tensor : vector; 2d tensor - matrix, more than 2 d - ndim tensr\n"
      ],
      "metadata": {
        "id": "Bh220dPuWpHX"
      }
    },
    {
      "cell_type": "code",
      "source": [
        "import torch\n",
        "import numpy as np\n",
        "#(creation)initialization with data driectly :\n",
        "data=[[1,2],[3,4]]\n",
        "tdata=torch.tensor(data)\n"
      ],
      "metadata": {
        "id": "gTtg8hTMYqLy"
      },
      "execution_count": 2,
      "outputs": []
    },
    {
      "cell_type": "code",
      "source": [
        "#initialization torch using existing numpy array\n",
        "arr=np.array(data) #tensor that shares the same underlying data buffer with the NumPy array, avoiding unnecessary data copying.\n",
        "npar=torch.from_numpy(arr)\n",
        "print(npar)\n",
        "\n",
        "npar.numpy()#Convert tensor to numpy\n",
        "print(\"As numpy: \",npar)\n",
        "\n",
        "\n",
        "#torch.ones()  retains shape and datatype of tdata\n",
        "x1=torch.ones_like(tdata)\n",
        "print(x1)\n",
        "\n",
        "#torch.rand()\n",
        "x2=torch.rand_like(tdata,dtype=torch.float) # generate rand val and  override datatype of tdata\n",
        "print(x2)"
      ],
      "metadata": {
        "colab": {
          "base_uri": "https://localhost:8080/"
        },
        "id": "gzezXD3YZQ5f",
        "outputId": "674456f6-6f3e-4e5a-e45d-61bd8bf8e0c2"
      },
      "execution_count": 3,
      "outputs": [
        {
          "output_type": "stream",
          "name": "stdout",
          "text": [
            "tensor([[1, 2],\n",
            "        [3, 4]])\n",
            "As numpy:  tensor([[1, 2],\n",
            "        [3, 4]])\n",
            "tensor([[1, 1],\n",
            "        [1, 1]])\n",
            "tensor([[0.5921, 0.0560],\n",
            "        [0.5085, 0.7511]])\n"
          ]
        }
      ]
    },
    {
      "cell_type": "code",
      "source": [
        "#supports various operation arithmetic operation, mathematical function, linear algebra opr, reduction opr,"
      ],
      "metadata": {
        "id": "DN_jTkn9asOI"
      },
      "execution_count": 4,
      "outputs": []
    },
    {
      "cell_type": "markdown",
      "source": [
        "https://pytorch.org/docs/stable/torch.html\n",
        "\n",
        "\n",
        "https://pytorch.org/docs/stable/torch.html#math-operations\n",
        "\n"
      ],
      "metadata": {
        "id": "vdmq3-4_ffd_"
      }
    },
    {
      "cell_type": "code",
      "source": [
        "#support indexing and slicing operations to access specific elements or sub-tensors within a tensor\n",
        "\n",
        "print(tdata[:1])\n",
        "tdata[:1]=0\n",
        "print(tdata)"
      ],
      "metadata": {
        "colab": {
          "base_uri": "https://localhost:8080/"
        },
        "id": "W_eF3SoOfw-3",
        "outputId": "b94b6c52-08ec-4e4a-d904-6bb21121853a"
      },
      "execution_count": 5,
      "outputs": [
        {
          "output_type": "stream",
          "name": "stdout",
          "text": [
            "tensor([[1, 2]])\n",
            "tensor([[0, 0],\n",
            "        [3, 4]])\n"
          ]
        }
      ]
    },
    {
      "cell_type": "markdown",
      "source": [
        "\n",
        "https://pytorch.org/docs/stable/notes/broadcasting.html\n"
      ],
      "metadata": {
        "id": "9SsazHlnkAMg"
      }
    },
    {
      "cell_type": "code",
      "source": [
        "#Bradcasting:\n",
        "'''If the arrays have a different number of dimensions, the shape of the smaller array is padded with ones on its left side.\n",
        "If the shape of the two arrays does not match in any dimension, the array with shape equal to 1 in that dimension is stretched to match the other array's shape.\n",
        "\n",
        "#3x3 array\n",
        "arr1 = np.array([[1, 2, 3],\n",
        "                 [4, 5, 6],\n",
        "                 [7, 8, 9]])\n",
        "\n",
        "# 1x3 array\n",
        "arr2 = np.array([10, 20, 30])\n",
        "result = arr1 + arr2\n",
        "print(result)\n",
        "Result of broadcasting addition:\n",
        "[[11 22 33]\n",
        " [14 25 36]\n",
        " [17 28 39]]\n",
        " '''\n",
        "\n",
        "x=torch.empty(3,4,2) #creating a tensor with uninitialized values\n",
        "y=torch.empty(3,4,2)\n",
        "print(x)\n",
        "print(y)\n",
        "print(x+y)\n",
        "# broadcast possible with same shape\n",
        "\n",
        "x=torch.empty(4,3,2,1)\n",
        "y=torch.empty( 3,1,1)\n",
        "print(x)\n",
        "print(y)\n",
        "print(x+y)\n",
        "# as matching trail, broadcasting possible\n",
        "\n",
        "'''\n",
        "#As mismatch trail broadcasting not possible\n",
        "x=torch.empty(4,3,2,1)\n",
        "y=torch.empty( 3,5,1)\n",
        "print(x)\n",
        "print(y)\n",
        "print(x+y)\n",
        "'''"
      ],
      "metadata": {
        "colab": {
          "base_uri": "https://localhost:8080/",
          "height": 1000
        },
        "id": "xe3eUmcasW4n",
        "outputId": "0b2e26a4-2a1b-4d27-85a2-8fb665bd737b"
      },
      "execution_count": 34,
      "outputs": [
        {
          "output_type": "stream",
          "name": "stdout",
          "text": [
            "tensor([[[1.2079e+07, 4.4020e-41],\n",
            "         [3.6312e-31, 3.2041e-41],\n",
            "         [0.0000e+00, 0.0000e+00],\n",
            "         [0.0000e+00, 0.0000e+00]],\n",
            "\n",
            "        [[0.0000e+00, 0.0000e+00],\n",
            "         [0.0000e+00, 0.0000e+00],\n",
            "         [0.0000e+00, 0.0000e+00],\n",
            "         [0.0000e+00, 0.0000e+00]],\n",
            "\n",
            "        [[0.0000e+00, 0.0000e+00],\n",
            "         [0.0000e+00, 0.0000e+00],\n",
            "         [0.0000e+00, 0.0000e+00],\n",
            "         [0.0000e+00, 0.0000e+00]]])\n",
            "tensor([[[1.2079e+07, 4.4020e-41],\n",
            "         [2.2405e-31, 3.2041e-41],\n",
            "         [1.4013e-45, 0.0000e+00],\n",
            "         [1.4013e-45, 0.0000e+00]],\n",
            "\n",
            "        [[1.4013e-45, 0.0000e+00],\n",
            "         [1.4013e-45, 0.0000e+00],\n",
            "         [1.4013e-45, 0.0000e+00],\n",
            "         [1.4013e-45, 0.0000e+00]],\n",
            "\n",
            "        [[1.4013e-45, 0.0000e+00],\n",
            "         [0.0000e+00, 0.0000e+00],\n",
            "         [1.4013e-45, 0.0000e+00],\n",
            "         [1.4013e-45, 0.0000e+00]]])\n",
            "tensor([[[2.4157e+07, 8.8041e-41],\n",
            "         [5.8718e-31, 6.4081e-41],\n",
            "         [1.4013e-45, 0.0000e+00],\n",
            "         [1.4013e-45, 0.0000e+00]],\n",
            "\n",
            "        [[1.4013e-45, 0.0000e+00],\n",
            "         [1.4013e-45, 0.0000e+00],\n",
            "         [1.4013e-45, 0.0000e+00],\n",
            "         [1.4013e-45, 0.0000e+00]],\n",
            "\n",
            "        [[1.4013e-45, 0.0000e+00],\n",
            "         [0.0000e+00, 0.0000e+00],\n",
            "         [1.4013e-45, 0.0000e+00],\n",
            "         [1.4013e-45, 0.0000e+00]]])\n",
            "tensor([[[[2.2930e-31],\n",
            "          [3.2041e-41]],\n",
            "\n",
            "         [[2.1245e-32],\n",
            "          [3.2041e-41]],\n",
            "\n",
            "         [[1.9181e+34],\n",
            "          [4.4019e-41]]],\n",
            "\n",
            "\n",
            "        [[[0.0000e+00],\n",
            "          [0.0000e+00]],\n",
            "\n",
            "         [[0.0000e+00],\n",
            "          [0.0000e+00]],\n",
            "\n",
            "         [[0.0000e+00],\n",
            "          [0.0000e+00]]],\n",
            "\n",
            "\n",
            "        [[[0.0000e+00],\n",
            "          [0.0000e+00]],\n",
            "\n",
            "         [[0.0000e+00],\n",
            "          [0.0000e+00]],\n",
            "\n",
            "         [[0.0000e+00],\n",
            "          [0.0000e+00]]],\n",
            "\n",
            "\n",
            "        [[[1.4013e-45],\n",
            "          [0.0000e+00]],\n",
            "\n",
            "         [[0.0000e+00],\n",
            "          [0.0000e+00]],\n",
            "\n",
            "         [[0.0000e+00],\n",
            "          [0.0000e+00]]]])\n",
            "tensor([[[7.7437e-34]],\n",
            "\n",
            "        [[3.2041e-41]],\n",
            "\n",
            "        [[2.2405e-31]]])\n",
            "tensor([[[[2.3007e-31],\n",
            "          [7.7437e-34]],\n",
            "\n",
            "         [[2.1245e-32],\n",
            "          [6.4081e-41]],\n",
            "\n",
            "         [[1.9181e+34],\n",
            "          [2.2405e-31]]],\n",
            "\n",
            "\n",
            "        [[[7.7437e-34],\n",
            "          [7.7437e-34]],\n",
            "\n",
            "         [[3.2041e-41],\n",
            "          [3.2041e-41]],\n",
            "\n",
            "         [[2.2405e-31],\n",
            "          [2.2405e-31]]],\n",
            "\n",
            "\n",
            "        [[[7.7437e-34],\n",
            "          [7.7437e-34]],\n",
            "\n",
            "         [[3.2041e-41],\n",
            "          [3.2041e-41]],\n",
            "\n",
            "         [[2.2405e-31],\n",
            "          [2.2405e-31]]],\n",
            "\n",
            "\n",
            "        [[[7.7437e-34],\n",
            "          [7.7437e-34]],\n",
            "\n",
            "         [[3.2041e-41],\n",
            "          [3.2041e-41]],\n",
            "\n",
            "         [[2.2405e-31],\n",
            "          [2.2405e-31]]]])\n"
          ]
        },
        {
          "output_type": "execute_result",
          "data": {
            "text/plain": [
              "'\\n#As mismatch trail broadcasting not possible\\nx=torch.empty(4,3,2,1)\\ny=torch.empty( 3,5,1)\\nprint(x)\\nprint(y)\\nprint(x+y)\\n'"
            ],
            "application/vnd.google.colaboratory.intrinsic+json": {
              "type": "string"
            }
          },
          "metadata": {},
          "execution_count": 34
        }
      ]
    },
    {
      "cell_type": "code",
      "source": [
        "#%matplotlib inline  --no need to explicitly give plot.show(), draw the plots immediately after the current cell"
      ],
      "metadata": {
        "id": "wfBLkmy3mDwU"
      },
      "execution_count": 10,
      "outputs": []
    },
    {
      "cell_type": "code",
      "source": [
        "#creates rand,ones,zeros tensor with shape\n",
        "shap=(4,5)\n",
        "tr=torch.rand(shap)\n",
        "t1=torch.ones(shap)\n",
        "t0=torch.zeros(shap)\n",
        "\n",
        "print(tr)\n",
        "print(t1)\n",
        "print(t0)"
      ],
      "metadata": {
        "id": "Umz2Ra7vmj8G",
        "colab": {
          "base_uri": "https://localhost:8080/"
        },
        "outputId": "a4e9eaa8-5983-4ac7-bb00-e2b77f1fd036"
      },
      "execution_count": 11,
      "outputs": [
        {
          "output_type": "stream",
          "name": "stdout",
          "text": [
            "tensor([[0.7196, 0.3040, 0.6006, 0.4776, 0.7161],\n",
            "        [0.6550, 0.5091, 0.4185, 0.9725, 0.5233],\n",
            "        [0.4328, 0.1145, 0.6356, 0.1063, 0.0667],\n",
            "        [0.2494, 0.1409, 0.8817, 0.7607, 0.0242]])\n",
            "tensor([[1., 1., 1., 1., 1.],\n",
            "        [1., 1., 1., 1., 1.],\n",
            "        [1., 1., 1., 1., 1.],\n",
            "        [1., 1., 1., 1., 1.]])\n",
            "tensor([[0., 0., 0., 0., 0.],\n",
            "        [0., 0., 0., 0., 0.],\n",
            "        [0., 0., 0., 0., 0.],\n",
            "        [0., 0., 0., 0., 0.]])\n"
          ]
        }
      ]
    },
    {
      "cell_type": "code",
      "source": [
        "#\n",
        "print(x3.shape)#shape of tensor\n",
        "print(x3.dtype)#dtype of tensor\n",
        "print(x3.device)#device tensor stored on"
      ],
      "metadata": {
        "colab": {
          "base_uri": "https://localhost:8080/"
        },
        "id": "mnBCrl9PSkM_",
        "outputId": "4d39f51c-621e-45c5-db2d-31bdf0cfe2cf"
      },
      "execution_count": 12,
      "outputs": [
        {
          "output_type": "stream",
          "name": "stdout",
          "text": [
            "torch.Size([3, 2])\n",
            "torch.int64\n",
            "cpu\n"
          ]
        }
      ]
    },
    {
      "cell_type": "code",
      "source": [
        "print(x3)\n",
        "print(x3[:,1])#slicing 1st param - ':' before , represent all row, 2nd param-1 represent 2nd col\n",
        "print(x3[2:,1])#slicing 1st param- 2: represent 2nd row full, 2nd - param represnt 1st column\n",
        "\n",
        "x4=torch.rand(4,5)\n",
        "print(x4)\n",
        "print(x4[1:3,2:4])#slicing 1st param 1:3 where 1 is start val and after : end value -1 so it prints 2nd and 3rd row of, 2nd param 2 :4 where 2 is start val, after : is end val -1; which is 3rd and 4th column"
      ],
      "metadata": {
        "id": "9RdTUm7OTjPF",
        "colab": {
          "base_uri": "https://localhost:8080/"
        },
        "outputId": "a2e53f6b-36ab-41a4-c1aa-8b5c2d5dcd1a"
      },
      "execution_count": 23,
      "outputs": [
        {
          "output_type": "stream",
          "name": "stdout",
          "text": [
            "tensor([[15, 25],\n",
            "        [35, 45],\n",
            "        [55, 65]])\n",
            "tensor([25, 45, 65])\n",
            "tensor([65])\n",
            "tensor([[0.4327, 0.2401, 0.3066, 0.9098, 0.8469],\n",
            "        [0.0228, 0.5721, 0.6479, 0.4918, 0.9110],\n",
            "        [0.0099, 0.7267, 0.8656, 0.5436, 0.0436],\n",
            "        [0.3853, 0.8697, 0.2427, 0.1861, 0.2386]])\n",
            "tensor([[0.6479, 0.4918],\n",
            "        [0.8656, 0.5436]])\n"
          ]
        }
      ]
    },
    {
      "cell_type": "code",
      "source": [
        "#stack with seperate dimension ; stack expects each tensor to be equal size, if x2=torch.tensor([[6,7],[8,9],[10,11]]) => error: got [2, 2] at entry 0 and [3, 2] at entry 2\n",
        "print(\"tdata\",tdata)\n",
        "print(\"x1: \", x1)\n",
        "x2=torch.tensor([[6,7],[8,9]])\n",
        "x1i=torch.stack([tdata,x1, x2])\n",
        "\n",
        "x1i"
      ],
      "metadata": {
        "colab": {
          "base_uri": "https://localhost:8080/"
        },
        "id": "OZssuw2Rgexo",
        "outputId": "c8feb6d0-3f7e-4ee4-d870-f43a4e0c7402"
      },
      "execution_count": 50,
      "outputs": [
        {
          "output_type": "stream",
          "name": "stdout",
          "text": [
            "tdata tensor([[0, 0],\n",
            "        [3, 4]])\n",
            "x1:  tensor([[1, 1],\n",
            "        [1, 1]])\n"
          ]
        },
        {
          "output_type": "execute_result",
          "data": {
            "text/plain": [
              "tensor([[[0, 0],\n",
              "         [3, 4]],\n",
              "\n",
              "        [[1, 1],\n",
              "         [1, 1]],\n",
              "\n",
              "        [[6, 7],\n",
              "         [8, 9]]])"
            ]
          },
          "metadata": {},
          "execution_count": 50
        }
      ]
    },
    {
      "cell_type": "code",
      "source": [
        "#concat seq of tensor in the same dim\n",
        "print(\"tdata\",tdata)\n",
        "print(\"x1: \", x1)\n",
        "x2=torch.tensor([[6,7],[8,9],[10,11]])\n",
        "x1i=torch.cat([tdata,x1, x2])\n",
        "\n",
        "x1i"
      ],
      "metadata": {
        "colab": {
          "base_uri": "https://localhost:8080/"
        },
        "id": "kL8e4pkAzjTo",
        "outputId": "1169de07-bfe7-4ec0-c84c-4480b7ae41af"
      },
      "execution_count": 51,
      "outputs": [
        {
          "output_type": "stream",
          "name": "stdout",
          "text": [
            "tdata tensor([[0, 0],\n",
            "        [3, 4]])\n",
            "x1:  tensor([[1, 1],\n",
            "        [1, 1]])\n"
          ]
        },
        {
          "output_type": "execute_result",
          "data": {
            "text/plain": [
              "tensor([[ 0,  0],\n",
              "        [ 3,  4],\n",
              "        [ 1,  1],\n",
              "        [ 1,  1],\n",
              "        [ 6,  7],\n",
              "        [ 8,  9],\n",
              "        [10, 11]])"
            ]
          },
          "metadata": {},
          "execution_count": 51
        }
      ]
    },
    {
      "cell_type": "code",
      "source": [
        "#multiplying tensor used for dot product\n",
        "print(\"x2: \", x2)\n",
        "x3=torch.tensor([[10,20],[30,40],[50,60]])\n",
        "print(\"x3: \", x3)\n",
        "mulx=x2.mul(x3)\n",
        "mulx\n",
        "\n",
        "#alternatives\n",
        "mulx=x2*x3\n",
        "print(mulx)\n",
        "\n",
        "x3trnsp=x3.T\n",
        "mtrxmul=x2.matmul(x3trnsp)\n",
        "print(mtrxmul)\n",
        "\n",
        "mtrx_at=x2@x3trnsp\n",
        "print(mtrx_at)"
      ],
      "metadata": {
        "colab": {
          "base_uri": "https://localhost:8080/"
        },
        "id": "GDUVUBX3hHGv",
        "outputId": "4378f39a-e2b1-4422-ea5b-497ee27433e2"
      },
      "execution_count": 63,
      "outputs": [
        {
          "output_type": "stream",
          "name": "stdout",
          "text": [
            "x2:  tensor([[ 6,  7],\n",
            "        [ 8,  9],\n",
            "        [10, 11]])\n",
            "x3:  tensor([[10, 20],\n",
            "        [30, 40],\n",
            "        [50, 60]])\n",
            "tensor([[ 60, 140],\n",
            "        [240, 360],\n",
            "        [500, 660]])\n",
            "tensor([[ 200,  460,  720],\n",
            "        [ 260,  600,  940],\n",
            "        [ 320,  740, 1160]])\n",
            "tensor([[ 200,  460,  720],\n",
            "        [ 260,  600,  940],\n",
            "        [ 320,  740, 1160]])\n"
          ]
        }
      ]
    },
    {
      "cell_type": "code",
      "source": [
        "#transpose using .t_()\n",
        "print(\"x3: \",x3)\n",
        "x3trnsp=x3.t_()\n",
        "x3trnsp"
      ],
      "metadata": {
        "colab": {
          "base_uri": "https://localhost:8080/"
        },
        "id": "3xnpN24u0yYd",
        "outputId": "9670c6ed-cae4-4cef-fb90-ca4ba2a761ae"
      },
      "execution_count": 70,
      "outputs": [
        {
          "output_type": "stream",
          "name": "stdout",
          "text": [
            "x3:  tensor([[10, 20],\n",
            "        [30, 40],\n",
            "        [50, 60]])\n"
          ]
        },
        {
          "output_type": "execute_result",
          "data": {
            "text/plain": [
              "tensor([[10, 30, 50],\n",
              "        [20, 40, 60]])"
            ]
          },
          "metadata": {},
          "execution_count": 70
        }
      ]
    },
    {
      "cell_type": "code",
      "source": [
        "# without creating sepearate tensor it creates in same, (add_, mul_)\n",
        "print(\"x3: \",x3)\n",
        "x3.add_(5)\n",
        "print(x3)"
      ],
      "metadata": {
        "colab": {
          "base_uri": "https://localhost:8080/"
        },
        "id": "elT7MRylls0K",
        "outputId": "c4df926c-54e1-40b6-d113-6de930f57672"
      },
      "execution_count": 71,
      "outputs": [
        {
          "output_type": "stream",
          "name": "stdout",
          "text": [
            "x3:  tensor([[10, 30, 50],\n",
            "        [20, 40, 60]])\n",
            "tensor([[15, 35, 55],\n",
            "        [25, 45, 65]])\n"
          ]
        }
      ]
    },
    {
      "cell_type": "code",
      "source": [
        "# without creating sepearate tensor it creates in same, (add_, mul_)\n",
        "print(\"x3: \",x3)\n",
        "x3.sub_(5) #subtract 5 from tensor x3, without sep tensor instead changes applied to x3\n",
        "print(x3)"
      ],
      "metadata": {
        "colab": {
          "base_uri": "https://localhost:8080/"
        },
        "id": "d-oNYTC83jhg",
        "outputId": "174eddab-cbe0-4dbf-f479-e0137316b5a7"
      },
      "execution_count": 75,
      "outputs": [
        {
          "output_type": "stream",
          "name": "stdout",
          "text": [
            "x3:  tensor([[ 5, 25, 45],\n",
            "        [15, 35, 55]])\n",
            "tensor([[ 0, 20, 40],\n",
            "        [10, 30, 50]])\n"
          ]
        }
      ]
    },
    {
      "cell_type": "code",
      "source": [
        "x4=np.ones(3)\n",
        "print(x4)\n",
        "x4np=torch.from_numpy(x4)\n",
        "print(x4np)\n",
        "np.add(x4np,3, out=x4) #add 3 to [1. 1. 1.], result(out/output ) store in same 'array '"
      ],
      "metadata": {
        "colab": {
          "base_uri": "https://localhost:8080/"
        },
        "id": "DXDU4Xie3kw_",
        "outputId": "47362f9f-3ce3-4628-f28a-f902563cd019"
      },
      "execution_count": 86,
      "outputs": [
        {
          "output_type": "stream",
          "name": "stdout",
          "text": [
            "[1. 1. 1.]\n",
            "tensor([1., 1., 1.], dtype=torch.float64)\n"
          ]
        },
        {
          "output_type": "execute_result",
          "data": {
            "text/plain": [
              "array([4., 4., 4.])"
            ]
          },
          "metadata": {},
          "execution_count": 86
        }
      ]
    },
    {
      "cell_type": "code",
      "source": [
        "x4=np.ones(3)\n",
        "print(x4)\n",
        "x4np=torch.from_numpy(x4)\n",
        "print(x4np)\n",
        "np.multiply(x4np,3, out=x4) #multiply 3 to [1. 1. 1.], result(out/output ) store in same 'array '"
      ],
      "metadata": {
        "colab": {
          "base_uri": "https://localhost:8080/"
        },
        "id": "UwJr81CC4TCg",
        "outputId": "836aab16-69f8-4081-ef8c-0cfcc91f806c"
      },
      "execution_count": 87,
      "outputs": [
        {
          "output_type": "stream",
          "name": "stdout",
          "text": [
            "[1. 1. 1.]\n",
            "tensor([1., 1., 1.], dtype=torch.float64)\n"
          ]
        },
        {
          "output_type": "execute_result",
          "data": {
            "text/plain": [
              "array([3., 3., 3.])"
            ]
          },
          "metadata": {},
          "execution_count": 87
        }
      ]
    },
    {
      "cell_type": "code",
      "source": [],
      "metadata": {
        "id": "_k9ConsO5m9g"
      },
      "execution_count": null,
      "outputs": []
    }
  ]
}