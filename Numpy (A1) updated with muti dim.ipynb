{
 "cells": [
  {
   "cell_type": "code",
   "execution_count": 13,
   "id": "450ce7b2",
   "metadata": {},
   "outputs": [],
   "source": [
    "import numpy as np"
   ]
  },
  {
   "cell_type": "markdown",
   "id": "54933918",
   "metadata": {},
   "source": [
    "# https://pythonexamples.org/python-numpy-create-one-dimensional-array/"
   ]
  },
  {
   "cell_type": "code",
   "execution_count": 14,
   "id": "66ce2333",
   "metadata": {},
   "outputs": [
    {
     "name": "stdout",
     "output_type": "stream",
     "text": [
      "List:  [10, 20, 30, 40, 50]\n",
      "After conversion to Array:  [10 20 30 40 50]\n"
     ]
    },
    {
     "data": {
      "text/plain": [
       "array([10, 20, 30, 40, 50])"
      ]
     },
     "execution_count": 14,
     "metadata": {},
     "output_type": "execute_result"
    }
   ],
   "source": [
    "#conversion of list to numpy array (usenp.array)\n",
    "list1=[10,20,30,40,50]\n",
    "print(\"List: \",list1)\n",
    "arr=np.array(list1)\n",
    "print(\"After conversion to Array: \",arr)\n",
    "#doesn't need an explicit print statement\n",
    "np.array(list1)\n",
    "\n",
    "#An list has to be passed as the parameter to np.array() \n",
    "\n",
    "np.asarray(list1)"
   ]
  },
  {
   "cell_type": "code",
   "execution_count": 15,
   "id": "d6409f75",
   "metadata": {},
   "outputs": [
    {
     "data": {
      "text/plain": [
       "1"
      ]
     },
     "execution_count": 15,
     "metadata": {},
     "output_type": "execute_result"
    }
   ],
   "source": [
    "arr.ndim # specifies the dimension of the arr"
   ]
  },
  {
   "cell_type": "code",
   "execution_count": 87,
   "id": "d43125c5",
   "metadata": {},
   "outputs": [
    {
     "name": "stdout",
     "output_type": "stream",
     "text": [
      "[[[  1   2   3   4]\n",
      "  [  5   8   9  28]]\n",
      "\n",
      " [[  6   9   7  10]\n",
      "  [ 16  19  17  20]]\n",
      "\n",
      " [[ 36  39  37  30]\n",
      "  [ 26  29  27  20]]\n",
      "\n",
      " [[ 24  21  70  50]\n",
      "  [260 290 270 200]]]\n",
      "3\n",
      "[[16 19 17]\n",
      " [26 29 27]]\n"
     ]
    }
   ],
   "source": [
    "#multi dim\n",
    "import numpy as np\n",
    "\n",
    "a = np.array([[ 1,  2,  3,  4],\n",
    "              [ 5,  8,  9,  28],\n",
    "              [ 6, 9, 7, 10],\n",
    "              [ 16, 19, 17, 20],\n",
    "              [ 36, 39, 37, 30],\n",
    "              [ 26, 29, 27, 20],\n",
    "              [ 24, 21, 70, 50],\n",
    "              [ 260, 290, 270, 200]\n",
    "             ])\n",
    "areshp = a.reshape(4, 2, 4) # 1st param- no.of array in outermost dim, 2nd param- row, 3rd param - col\n",
    "\n",
    "print(areshp)\n",
    "print(areshp.ndim)\n",
    "\n",
    "print(areshp[1:3,1,:3]) # start:end-1=> As start with 0=> 2nd and 3rd array, 2nd row, (0,1,2) 1st 3 cols"
   ]
  },
  {
   "cell_type": "code",
   "execution_count": 71,
   "id": "6f0573dc",
   "metadata": {},
   "outputs": [
    {
     "name": "stdout",
     "output_type": "stream",
     "text": [
      "After adding 5 to entire items [[[ 6  7 14 13]\n",
      "  [16  5  8  9]]\n",
      "\n",
      " [[15 19 14 11]\n",
      "  [12 13 10 17]]]\n"
     ]
    }
   ],
   "source": [
    "#list1=list1+5 \n",
    "#can't add a number to all elements in the list\n",
    "\n",
    "arr=arr+5\n",
    "print(\"After adding 5 to entire items\", arr)"
   ]
  },
  {
   "cell_type": "code",
   "execution_count": 17,
   "id": "9fa29219",
   "metadata": {},
   "outputs": [
    {
     "name": "stdout",
     "output_type": "stream",
     "text": [
      "Help on function shape in module numpy:\n",
      "\n",
      "shape(a)\n",
      "    Return the shape of an array.\n",
      "    \n",
      "    Parameters\n",
      "    ----------\n",
      "    a : array_like\n",
      "        Input array.\n",
      "    \n",
      "    Returns\n",
      "    -------\n",
      "    shape : tuple of ints\n",
      "        The elements of the shape tuple give the lengths of the\n",
      "        corresponding array dimensions.\n",
      "    \n",
      "    See Also\n",
      "    --------\n",
      "    len : ``len(a)`` is equivalent to ``np.shape(a)[0]`` for N-D arrays with\n",
      "          ``N>=1``.\n",
      "    ndarray.shape : Equivalent array method.\n",
      "    \n",
      "    Examples\n",
      "    --------\n",
      "    >>> np.shape(np.eye(3))\n",
      "    (3, 3)\n",
      "    >>> np.shape([[1, 3]])\n",
      "    (1, 2)\n",
      "    >>> np.shape([0])\n",
      "    (1,)\n",
      "    >>> np.shape(0)\n",
      "    ()\n",
      "    \n",
      "    >>> a = np.array([(1, 2), (3, 4), (5, 6)],\n",
      "    ...              dtype=[('x', 'i4'), ('y', 'i4')])\n",
      "    >>> np.shape(a)\n",
      "    (3,)\n",
      "    >>> a.shape\n",
      "    (3,)\n",
      "\n"
     ]
    },
    {
     "data": {
      "text/plain": [
       "(5,)"
      ]
     },
     "execution_count": 17,
     "metadata": {},
     "output_type": "execute_result"
    }
   ],
   "source": [
    "#Shape is an attribute not method it provides the dimension of array\n",
    "#shape is a simple fixed feature of the array, it doesn't need to be a method\n",
    "\n",
    "help(np.shape)\n",
    "\n",
    "arr.shape\n",
    "np.shape(arr)"
   ]
  },
  {
   "cell_type": "code",
   "execution_count": 18,
   "id": "710ce032",
   "metadata": {},
   "outputs": [
    {
     "name": "stdout",
     "output_type": "stream",
     "text": [
      "Help on function dot in module numpy:\n",
      "\n",
      "dot(...)\n",
      "    dot(a, b, out=None)\n",
      "    \n",
      "    Dot product of two arrays. Specifically,\n",
      "    \n",
      "    - If both `a` and `b` are 1-D arrays, it is inner product of vectors\n",
      "      (without complex conjugation).\n",
      "    \n",
      "    - If both `a` and `b` are 2-D arrays, it is matrix multiplication,\n",
      "      but using :func:`matmul` or ``a @ b`` is preferred.\n",
      "    \n",
      "    - If either `a` or `b` is 0-D (scalar), it is equivalent to\n",
      "      :func:`multiply` and using ``numpy.multiply(a, b)`` or ``a * b`` is\n",
      "      preferred.\n",
      "    \n",
      "    - If `a` is an N-D array and `b` is a 1-D array, it is a sum product over\n",
      "      the last axis of `a` and `b`.\n",
      "    \n",
      "    - If `a` is an N-D array and `b` is an M-D array (where ``M>=2``), it is a\n",
      "      sum product over the last axis of `a` and the second-to-last axis of\n",
      "      `b`::\n",
      "    \n",
      "        dot(a, b)[i,j,k,m] = sum(a[i,j,:] * b[k,:,m])\n",
      "    \n",
      "    It uses an optimized BLAS library when possible (see `numpy.linalg`).\n",
      "    \n",
      "    Parameters\n",
      "    ----------\n",
      "    a : array_like\n",
      "        First argument.\n",
      "    b : array_like\n",
      "        Second argument.\n",
      "    out : ndarray, optional\n",
      "        Output argument. This must have the exact kind that would be returned\n",
      "        if it was not used. In particular, it must have the right type, must be\n",
      "        C-contiguous, and its dtype must be the dtype that would be returned\n",
      "        for `dot(a,b)`. This is a performance feature. Therefore, if these\n",
      "        conditions are not met, an exception is raised, instead of attempting\n",
      "        to be flexible.\n",
      "    \n",
      "    Returns\n",
      "    -------\n",
      "    output : ndarray\n",
      "        Returns the dot product of `a` and `b`.  If `a` and `b` are both\n",
      "        scalars or both 1-D arrays then a scalar is returned; otherwise\n",
      "        an array is returned.\n",
      "        If `out` is given, then it is returned.\n",
      "    \n",
      "    Raises\n",
      "    ------\n",
      "    ValueError\n",
      "        If the last dimension of `a` is not the same size as\n",
      "        the second-to-last dimension of `b`.\n",
      "    \n",
      "    See Also\n",
      "    --------\n",
      "    vdot : Complex-conjugating dot product.\n",
      "    tensordot : Sum products over arbitrary axes.\n",
      "    einsum : Einstein summation convention.\n",
      "    matmul : '@' operator as method with out parameter.\n",
      "    linalg.multi_dot : Chained dot product.\n",
      "    \n",
      "    Examples\n",
      "    --------\n",
      "    >>> np.dot(3, 4)\n",
      "    12\n",
      "    \n",
      "    Neither argument is complex-conjugated:\n",
      "    \n",
      "    >>> np.dot([2j, 3j], [2j, 3j])\n",
      "    (-13+0j)\n",
      "    \n",
      "    For 2-D arrays it is the matrix product:\n",
      "    \n",
      "    >>> a = [[1, 0], [0, 1]]\n",
      "    >>> b = [[4, 1], [2, 2]]\n",
      "    >>> np.dot(a, b)\n",
      "    array([[4, 1],\n",
      "           [2, 2]])\n",
      "    \n",
      "    >>> a = np.arange(3*4*5*6).reshape((3,4,5,6))\n",
      "    >>> b = np.arange(3*4*5*6)[::-1].reshape((5,4,6,3))\n",
      "    >>> np.dot(a, b)[2,3,2,1,2,2]\n",
      "    499128\n",
      "    >>> sum(a[2,3,2,:] * b[1,2,:,2])\n",
      "    499128\n",
      "\n",
      "[[140 260]\n",
      " [320 620]]\n"
     ]
    }
   ],
   "source": [
    "#2d array\n",
    "\n",
    "#x=np.array([10,20,30],\n",
    "#          [40,50,60])\n",
    "#Though np.array accepts list as parameter for multi dimension within single list and tuple seprated items has to be passed\n",
    "x=np.array([(10,20,30),\n",
    "           (40,50,60)])\n",
    "y2=np.array([(1,2,3),\n",
    "            (3,4,5)])     \n",
    "  # won't work because 2x3 != 2x3 hence has to be transpose \n",
    "y2=y2.transpose() \n",
    "#or\n",
    "y1=np.array([(1,2),\n",
    "            (3,6),\n",
    "           (4,5)])\n",
    "help(np.dot)\n",
    "print(np.dot(x,y2))"
   ]
  },
  {
   "attachments": {
    "image-2.png": {
     "image/png": "[encoded data removed]"
    }
   },
   "cell_type": "markdown",
   "id": "dd115af2",
   "metadata": {},
   "source": [
    "![image-2.png](attachment:image-2.png)\n"
   ]
  },
  {
   "cell_type": "code",
   "execution_count": 19,
   "id": "cb9953fe",
   "metadata": {},
   "outputs": [
    {
     "name": "stdout",
     "output_type": "stream",
     "text": [
      "[[[ 1  2  3]\n",
      "  [ 4  5  6]]\n",
      "\n",
      " [[ 7  8  9]\n",
      "  [10 11 12]]\n",
      "\n",
      " [[17 18 19]\n",
      "  [11 11 11]]]\n"
     ]
    },
    {
     "data": {
      "text/plain": [
       "(3, 2, 3)"
      ]
     },
     "execution_count": 19,
     "metadata": {},
     "output_type": "execute_result"
    }
   ],
   "source": [
    "#3d array\n",
    "\n",
    "x3=np.array([\n",
    "    [[1,2,3],\n",
    "    [4,5,6]],\n",
    "    \n",
    "    [[7,8,9],\n",
    "     [10,11,12]],\n",
    "    \n",
    "    [[17,18,19],\n",
    "     [11,11,11]]\n",
    "])\n",
    "\n",
    "print(x3)\n",
    "x3.shape  #=>(2, 2, 3) 1st denotes the slice of matrices, 2nd & 3rd row and col)\n"
   ]
  },
  {
   "cell_type": "code",
   "execution_count": 20,
   "id": "3eae8806",
   "metadata": {},
   "outputs": [
    {
     "data": {
      "text/plain": [
       "array([[0, 0, 0],\n",
       "       [0, 0, 0],\n",
       "       [0, 0, 0]], dtype=int16)"
      ]
     },
     "execution_count": 20,
     "metadata": {},
     "output_type": "execute_result"
    }
   ],
   "source": [
    "#numpy.zeros\n",
    "np.zeros((3,3), dtype=np.int16)"
   ]
  },
  {
   "cell_type": "code",
   "execution_count": 21,
   "id": "872fdc13",
   "metadata": {},
   "outputs": [
    {
     "data": {
      "text/plain": [
       "array([[[1, 1, 1, 1],\n",
       "        [1, 1, 1, 1]],\n",
       "\n",
       "       [[1, 1, 1, 1],\n",
       "        [1, 1, 1, 1]],\n",
       "\n",
       "       [[1, 1, 1, 1],\n",
       "        [1, 1, 1, 1]]], dtype=int16)"
      ]
     },
     "execution_count": 21,
     "metadata": {},
     "output_type": "execute_result"
    }
   ],
   "source": [
    "#numpy.ones\n",
    "np.ones((3,2,4), dtype=np.int16)"
   ]
  },
  {
   "cell_type": "code",
   "execution_count": 22,
   "id": "af2c7eaa",
   "metadata": {},
   "outputs": [
    {
     "name": "stdout",
     "output_type": "stream",
     "text": [
      "[[10 20 30]\n",
      " [40 50 60]]\n"
     ]
    },
    {
     "data": {
      "text/plain": [
       "array([[10, 20],\n",
       "       [30, 40],\n",
       "       [50, 60]])"
      ]
     },
     "execution_count": 22,
     "metadata": {},
     "output_type": "execute_result"
    }
   ],
   "source": [
    "#instead of using arr.transpose(), we can use arr.reshape(dim)\n",
    "print(x)\n",
    "x.reshape(3,2)"
   ]
  },
  {
   "cell_type": "code",
   "execution_count": 23,
   "id": "cac85880",
   "metadata": {},
   "outputs": [
    {
     "data": {
      "text/plain": [
       "array([10, 20, 30, 40, 50, 60])"
      ]
     },
     "execution_count": 23,
     "metadata": {},
     "output_type": "execute_result"
    }
   ],
   "source": [
    "#np.flatten() makes into single array\n",
    "x.flatten()"
   ]
  },
  {
   "cell_type": "code",
   "execution_count": 24,
   "id": "ddf0330d",
   "metadata": {},
   "outputs": [
    {
     "name": "stdout",
     "output_type": "stream",
     "text": [
      "[ 1  2  3 10 20 30 40 50]\n",
      "Help on function vstack in module numpy:\n",
      "\n",
      "vstack(tup, *, dtype=None, casting='same_kind')\n",
      "    Stack arrays in sequence vertically (row wise).\n",
      "    \n",
      "    This is equivalent to concatenation along the first axis after 1-D arrays\n",
      "    of shape `(N,)` have been reshaped to `(1,N)`. Rebuilds arrays divided by\n",
      "    `vsplit`.\n",
      "    \n",
      "    This function makes most sense for arrays with up to 3 dimensions. For\n",
      "    instance, for pixel-data with a height (first axis), width (second axis),\n",
      "    and r/g/b channels (third axis). The functions `concatenate`, `stack` and\n",
      "    `block` provide more general stacking and concatenation operations.\n",
      "    \n",
      "    ``np.row_stack`` is an alias for `vstack`. They are the same function.\n",
      "    \n",
      "    Parameters\n",
      "    ----------\n",
      "    tup : sequence of ndarrays\n",
      "        The arrays must have the same shape along all but the first axis.\n",
      "        1-D arrays must have the same length.\n",
      "    \n",
      "    dtype : str or dtype\n",
      "        If provided, the destination array will have this dtype. Cannot be\n",
      "        provided together with `out`.\n",
      "    \n",
      "    .. versionadded:: 1.24\n",
      "    \n",
      "    casting : {'no', 'equiv', 'safe', 'same_kind', 'unsafe'}, optional\n",
      "        Controls what kind of data casting may occur. Defaults to 'same_kind'.\n",
      "    \n",
      "    .. versionadded:: 1.24\n",
      "    \n",
      "    Returns\n",
      "    -------\n",
      "    stacked : ndarray\n",
      "        The array formed by stacking the given arrays, will be at least 2-D.\n",
      "    \n",
      "    See Also\n",
      "    --------\n",
      "    concatenate : Join a sequence of arrays along an existing axis.\n",
      "    stack : Join a sequence of arrays along a new axis.\n",
      "    block : Assemble an nd-array from nested lists of blocks.\n",
      "    hstack : Stack arrays in sequence horizontally (column wise).\n",
      "    dstack : Stack arrays in sequence depth wise (along third axis).\n",
      "    column_stack : Stack 1-D arrays as columns into a 2-D array.\n",
      "    vsplit : Split an array into multiple sub-arrays vertically (row-wise).\n",
      "    \n",
      "    Examples\n",
      "    --------\n",
      "    >>> a = np.array([1, 2, 3])\n",
      "    >>> b = np.array([4, 5, 6])\n",
      "    >>> np.vstack((a,b))\n",
      "    array([[1, 2, 3],\n",
      "           [4, 5, 6]])\n",
      "    \n",
      "    >>> a = np.array([[1], [2], [3]])\n",
      "    >>> b = np.array([[4], [5], [6]])\n",
      "    >>> np.vstack((a,b))\n",
      "    array([[1],\n",
      "           [2],\n",
      "           [3],\n",
      "           [4],\n",
      "           [5],\n",
      "           [6]])\n",
      "\n"
     ]
    }
   ],
   "source": [
    "# Horitzontal Stack\n",
    "list2=[1,2,3]\n",
    "print(np.hstack((list2,list1)))\n",
    "\n",
    "#help(np.hstack)\n",
    "help(np.vstack)\n"
   ]
  },
  {
   "cell_type": "code",
   "execution_count": 25,
   "id": "8e81ae06",
   "metadata": {},
   "outputs": [
    {
     "name": "stdout",
     "output_type": "stream",
     "text": [
      "[[12 22 32]\n",
      " [11 21 31]]\n"
     ]
    }
   ],
   "source": [
    "# Vertical Stack\n",
    "list3=[11,21,31]\n",
    "list4=[12,22,32]\n",
    "\n",
    "print(np.vstack((list4,list3)))"
   ]
  },
  {
   "cell_type": "code",
   "execution_count": 26,
   "id": "d2690691",
   "metadata": {},
   "outputs": [
    {
     "name": "stdout",
     "output_type": "stream",
     "text": [
      "[4.26956124 4.33278599 3.77165229 4.98913306 5.31998317 5.73970782\n",
      " 4.58906902 3.9880652  4.60173955 5.21812774]\n"
     ]
    }
   ],
   "source": [
    "# Generate random nmber from normal distribution\n",
    "ar = np.random.normal(5, 0.5, 10)\n",
    "print(ar)"
   ]
  },
  {
   "cell_type": "code",
   "execution_count": 27,
   "id": "14defa32",
   "metadata": {},
   "outputs": [
    {
     "data": {
      "text/plain": [
       "array([ 2,  5,  8, 11, 14, 17])"
      ]
     },
     "execution_count": 27,
     "metadata": {},
     "output_type": "execute_result"
    }
   ],
   "source": [
    "np.arange(2,20,3)"
   ]
  },
  {
   "cell_type": "code",
   "execution_count": 28,
   "id": "784d3741",
   "metadata": {},
   "outputs": [
    {
     "data": {
      "text/plain": [
       "array([ 2.,  4.,  6.,  8., 10., 12., 14., 16., 18., 20.])"
      ]
     },
     "execution_count": 28,
     "metadata": {},
     "output_type": "execute_result"
    }
   ],
   "source": [
    "# evenly spaced np.linspace(start, stop, num, endpoint)  num- no.of sample to generate, \n",
    "\n",
    "np.linspace(2,20,num=10)\n"
   ]
  },
  {
   "cell_type": "code",
   "execution_count": 29,
   "id": "c6650b72",
   "metadata": {},
   "outputs": [
    {
     "data": {
      "text/plain": [
       "array([ 2. ,  3.8,  5.6,  7.4,  9.2, 11. , 12.8, 14.6, 16.4, 18.2])"
      ]
     },
     "execution_count": 29,
     "metadata": {},
     "output_type": "execute_result"
    }
   ],
   "source": [
    "np.linspace(2,20,num=10, endpoint=False)"
   ]
  },
  {
   "cell_type": "code",
   "execution_count": 30,
   "id": "8d1bd960",
   "metadata": {},
   "outputs": [
    {
     "data": {
      "text/plain": [
       "array([  10000.        ,   19306.97728883,   37275.93720315,\n",
       "         71968.56730012,  138949.54943731,  268269.57952797,\n",
       "        517947.46792312, 1000000.        ])"
      ]
     },
     "execution_count": 30,
     "metadata": {},
     "output_type": "execute_result"
    }
   ],
   "source": [
    "# even spaced numbers on a log scale np.logspace(strt,stop,endpt)\n",
    "np.logspace(4,6,8)"
   ]
  },
  {
   "cell_type": "code",
   "execution_count": 31,
   "id": "3a6ea238",
   "metadata": {},
   "outputs": [
    {
     "name": "stdout",
     "output_type": "stream",
     "text": [
      "[[10 20 30]\n",
      " [40 50 60]]\n"
     ]
    }
   ],
   "source": [
    "#slice\n",
    "x4=np.array([(10,20,30),(40,50,60)])\n",
    "print(x4)"
   ]
  },
  {
   "cell_type": "code",
   "execution_count": 32,
   "id": "b7844aed",
   "metadata": {},
   "outputs": [
    {
     "data": {
      "text/plain": [
       "array([10, 20, 30])"
      ]
     },
     "execution_count": 32,
     "metadata": {},
     "output_type": "execute_result"
    }
   ],
   "source": [
    "x4[0]"
   ]
  },
  {
   "cell_type": "code",
   "execution_count": 33,
   "id": "f8ed0589",
   "metadata": {},
   "outputs": [
    {
     "name": "stdout",
     "output_type": "stream",
     "text": [
      "[30 60]\n"
     ]
    }
   ],
   "source": [
    "print(x4[:,2])"
   ]
  },
  {
   "cell_type": "code",
   "execution_count": 34,
   "id": "8b187830",
   "metadata": {},
   "outputs": [
    {
     "name": "stdout",
     "output_type": "stream",
     "text": [
      "[40]\n"
     ]
    }
   ],
   "source": [
    "print(x4[1,:1])"
   ]
  },
  {
   "cell_type": "code",
   "execution_count": 35,
   "id": "83f914b5",
   "metadata": {},
   "outputs": [
    {
     "name": "stdout",
     "output_type": "stream",
     "text": [
      "10\n",
      "60\n",
      "35.0\n",
      "35.0\n",
      "17.07825127659933\n"
     ]
    }
   ],
   "source": [
    "#Min\n",
    "print(np.min(x4))\n",
    "\n",
    "#Max\n",
    "print(np.max(x4))\n",
    "\n",
    "# Mean\n",
    "print(np.mean(x4))\n",
    "\n",
    "#Median\n",
    "print(np.median(x4))\n",
    "\n",
    "# Sd\n",
    "print(np.std(x4))"
   ]
  },
  {
   "cell_type": "code",
   "execution_count": 36,
   "id": "81a9cc9d",
   "metadata": {},
   "outputs": [
    {
     "name": "stdout",
     "output_type": "stream",
     "text": [
      "[[140 260]\n",
      " [320 620]]\n"
     ]
    }
   ],
   "source": [
    "print(np.dot(x,y2))"
   ]
  },
  {
   "cell_type": "code",
   "execution_count": 37,
   "id": "27dc3696",
   "metadata": {},
   "outputs": [],
   "source": [
    "#Matrix"
   ]
  },
  {
   "cell_type": "code",
   "execution_count": 38,
   "id": "c965062d",
   "metadata": {},
   "outputs": [
    {
     "data": {
      "text/plain": [
       "array([[ 90, 120],\n",
       "       [240, 330]])"
      ]
     },
     "execution_count": 38,
     "metadata": {},
     "output_type": "execute_result"
    }
   ],
   "source": [
    "#matrix multi\n",
    "a=[[1,2],[4,5]]\n",
    "b=[[10,20],[40,50]]\n",
    "np.matmul(a,b)"
   ]
  },
  {
   "cell_type": "code",
   "execution_count": 39,
   "id": "5d5c7881",
   "metadata": {},
   "outputs": [
    {
     "name": "stdout",
     "output_type": "stream",
     "text": [
      "[[-1.83333333  1.08333333 -0.25      ]\n",
      " [ 1.66666667 -1.16666667  0.5       ]\n",
      " [-0.16666667  0.41666667 -0.25      ]]\n"
     ]
    }
   ],
   "source": [
    "a=np.array([[1,2,3],\n",
    "            [4,5,6],\n",
    "            [6,7,4]])\n",
    "#inverse of the matrix\n",
    "print(np.linalg.inv(a))"
   ]
  },
  {
   "cell_type": "code",
   "execution_count": 40,
   "id": "553e9361",
   "metadata": {},
   "outputs": [
    {
     "name": "stdout",
     "output_type": "stream",
     "text": [
      "[[1 2 3]\n",
      " [4 5 6]\n",
      " [6 7 4]]\n",
      "determinant:  11\n"
     ]
    }
   ],
   "source": [
    "print(a)\n",
    "\n",
    "# determinant of matrix\n",
    "det = np.linalg.det(a)\n",
    "\n",
    "print(\"determinant: \",int(det))"
   ]
  },
  {
   "cell_type": "code",
   "execution_count": 41,
   "id": "607b75a2",
   "metadata": {},
   "outputs": [
    {
     "name": "stdout",
     "output_type": "stream",
     "text": [
      "[[1 2 3]\n",
      " [4 5 6]\n",
      " [6 7 4]]\n"
     ]
    },
    {
     "data": {
      "text/plain": [
       "3"
      ]
     },
     "execution_count": 41,
     "metadata": {},
     "output_type": "execute_result"
    }
   ],
   "source": [
    "# square matrix (NxN matrix)(3X3)\n",
    "print(a)\n",
    "\n",
    "# Let's get rank of matrix\n",
    "np.linalg.matrix_rank(a)"
   ]
  },
  {
   "cell_type": "code",
   "execution_count": 42,
   "id": "8ab909c1",
   "metadata": {},
   "outputs": [
    {
     "name": "stdout",
     "output_type": "stream",
     "text": [
      "(3, 3)\n",
      "eigenvalue:  [13.05723468 -0.33797036 -2.71926433] \n",
      " eigenvector:  [[-0.28271602 -0.70272823 -0.43437867]\n",
      " [-0.65922338  0.69542187 -0.40159111]\n",
      " [-0.69677556 -0.15020473  0.80625043]]\n"
     ]
    }
   ],
   "source": [
    "\n",
    "print(a.shape)\n",
    "egnval, egnvectr=np.linalg.eig(a)\n",
    "print(\"eigenvalue: \",egnval, \"\\n eigenvector: \", egnvectr)"
   ]
  },
  {
   "cell_type": "code",
   "execution_count": 43,
   "id": "d1963cfb",
   "metadata": {},
   "outputs": [
    {
     "name": "stdout",
     "output_type": "stream",
     "text": [
      "[[1 2]\n",
      " [3 4]]\n",
      "[[1 4]]\n"
     ]
    }
   ],
   "source": [
    "#matrix using np\n",
    "m1 = np.matrix('[1, 2; 3, 4]') #using semicoln we can break the row.\n",
    "print(m1)\n",
    "dgnl = m1.diagonal()\n",
    "print(dgnl)"
   ]
  },
  {
   "cell_type": "code",
   "execution_count": 44,
   "id": "66091a87",
   "metadata": {},
   "outputs": [
    {
     "name": "stdout",
     "output_type": "stream",
     "text": [
      "[[1 3]\n",
      " [2 4]]\n"
     ]
    }
   ],
   "source": [
    "#  matrix.transpose() \n",
    "tOfm1 = m1.transpose()\n",
    "\n",
    "print(tOfm1)"
   ]
  },
  {
   "attachments": {
    "image.png": {
     "image/png": "[encoded data removed]"
    }
   },
   "cell_type": "markdown",
   "id": "2e66ad94",
   "metadata": {},
   "source": [
    "# ![image.png](attachment:image.png)\n"
   ]
  },
  {
   "cell_type": "code",
   "execution_count": 45,
   "id": "03ec627b",
   "metadata": {},
   "outputs": [
    {
     "name": "stdout",
     "output_type": "stream",
     "text": [
      "[[5]]\n"
     ]
    }
   ],
   "source": [
    "#  matrix.trace() \n",
    "tracem = m1.trace()\n",
    "\n",
    "print(tracem)"
   ]
  },
  {
   "cell_type": "markdown",
   "id": "1830212d",
   "metadata": {},
   "source": [
    "Create a csv file with the following data\n",
    "\n",
    "transaction_id,product,quantity,price\n",
    "\n",
    "1,Product A,5,10.99\n",
    "\n",
    "2,Product B,3,20.50\n",
    "\n",
    "3,Product A,2,9.99\n",
    "\n",
    "4,Product C,4,15.75\n",
    "\n",
    "5,Product B,6,22.00\n",
    "\n",
    "6,Product A,8,11.50\n",
    "\n",
    "7,Product C,3,14.25\n",
    "\n",
    "8,Product A,10,12.75\n",
    "\n",
    "9,Product B,4,21.00\n",
    "\n",
    "10,Product C,7,16.50"
   ]
  },
  {
   "cell_type": "code",
   "execution_count": 46,
   "id": "e3c8ae74",
   "metadata": {},
   "outputs": [],
   "source": [
    "\n",
    "data=[['1','Product A','5','10.99'],\n",
    "\n",
    "['2','Product B','3','20.50'],\n",
    "\n",
    "['3','Product A','2','9.99'],\n",
    "\n",
    "['4','Product C','4','15.75'],\n",
    "\n",
    "['5','Product B','6','22.00'],\n",
    "\n",
    "['6','Product A','8','11.50'],\n",
    "\n",
    "['7','Product C','3','14.25'],\n",
    "\n",
    "['8','Product A','10','12.75'],\n",
    "\n",
    "['9','Product B','4','21.00'],\n",
    "\n",
    "['10','Product C','7','16.50']]"
   ]
  },
  {
   "cell_type": "code",
   "execution_count": 47,
   "id": "dd18682a",
   "metadata": {},
   "outputs": [],
   "source": [
    "import csv\n",
    "with open('sales_data.csv','w') as file:\n",
    "    field=['transaction_id','product','quantity','price']\n",
    "    writer=csv.writer(file)\n",
    "    writer.writerow(field)\n",
    "    writer.writerows(data)"
   ]
  },
  {
   "cell_type": "markdown",
   "id": "610ca486",
   "metadata": {},
   "source": [
    "analyze sales data for the past month and provide insights to the management team. The sales data is stored in a CSV file named \"sales_data.csv\", which contains information about sales transactions, including the product sold, quantity, and price. Your goal is to perform various operations on this data using NumPy to extract meaningful insights.\n",
    "\n",
    "Do the follwoing Tasks:\n",
    "\n",
    "Load the sales data from the CSV file into a NumPy array."
   ]
  },
  {
   "cell_type": "code",
   "execution_count": 48,
   "id": "33a1f9e5",
   "metadata": {},
   "outputs": [
    {
     "name": "stdout",
     "output_type": "stream",
     "text": [
      "Column Names: ('transaction_id', 'product', 'quantity', 'price')\n",
      "[( 1, b'Product A',  5, 10.99) ( 2, b'Product B',  3, 20.5 )\n",
      " ( 3, b'Product A',  2,  9.99) ( 4, b'Product C',  4, 15.75)\n",
      " ( 5, b'Product B',  6, 22.  ) ( 6, b'Product A',  8, 11.5 )\n",
      " ( 7, b'Product C',  3, 14.25) ( 8, b'Product A', 10, 12.75)\n",
      " ( 9, b'Product B',  4, 21.  ) (10, b'Product C',  7, 16.5 )]\n"
     ]
    },
    {
     "name": "stderr",
     "output_type": "stream",
     "text": [
      "C:\\Users\\subhi\\AppData\\Local\\Temp\\ipykernel_4972\\3806191046.py:2: VisibleDeprecationWarning: Reading unicode strings without specifying the encoding argument is deprecated. Set the encoding, use None for the system default.\n",
      "  sales_data = np.genfromtxt('sales_data.csv', delimiter=',', dtype=None, names=True)\n"
     ]
    }
   ],
   "source": [
    "# Task 1: Load the sales data from the CSV file into a NumPy array.\n",
    "sales_data = np.genfromtxt('sales_data.csv', delimiter=',', dtype=None, names=True)\n",
    "print(\"Column Names:\", sales_data.dtype.names)\n",
    "print(sales_data)\n"
   ]
  },
  {
   "cell_type": "code",
   "execution_count": 49,
   "id": "b47b7fc8",
   "metadata": {},
   "outputs": [
    {
     "name": "stdout",
     "output_type": "stream",
     "text": [
      "[ 54.95  61.5   19.98  63.   132.    92.    42.75 127.5   84.   115.5 ]\n"
     ]
    }
   ],
   "source": [
    "#Calculate the total sales revenue for each product by multiplying the quantity sold with the price.\n",
    "for x in sales_data['product']:\n",
    "    totsales=sales_data['quantity']*sales_data['price']\n",
    "    \n",
    "print(totsales)"
   ]
  },
  {
   "cell_type": "code",
   "execution_count": 50,
   "id": "e806badf",
   "metadata": {},
   "outputs": [
    {
     "name": "stdout",
     "output_type": "stream",
     "text": [
      "132.0\n"
     ]
    }
   ],
   "source": [
    "#Identify the top-selling product based on the total revenue generated.\n",
    "\n",
    "top_sold_product_index=np.argmax(totsales)\n",
    "top_sold_product=sales_data[top_sold_product_index]['product']\n",
    "print(max(totsales))"
   ]
  },
  {
   "cell_type": "code",
   "execution_count": 51,
   "id": "1ed193e8",
   "metadata": {},
   "outputs": [
    {
     "data": {
      "text/plain": [
       "5.2"
      ]
     },
     "execution_count": 51,
     "metadata": {},
     "output_type": "execute_result"
    }
   ],
   "source": [
    "#Compute the average quantity sold per transaction.\n",
    "avgQntSoldTrans=np.mean(sales_data['quantity'])\n",
    "avgQntSoldTrans"
   ]
  },
  {
   "cell_type": "code",
   "execution_count": 52,
   "id": "a437e1da",
   "metadata": {},
   "outputs": [
    {
     "data": {
      "text/plain": [
       "array([[ 1.        , -0.13984969],\n",
       "       [-0.13984969,  1.        ]])"
      ]
     },
     "execution_count": 52,
     "metadata": {},
     "output_type": "execute_result"
    }
   ],
   "source": [
    "#Determine the correlation coefficient between the quantity sold and the price.\n",
    "corcoeff=np.corrcoef(sales_data['quantity'],sales_data['price'])\n",
    "corcoeff"
   ]
  },
  {
   "cell_type": "code",
   "execution_count": 53,
   "id": "74db1a53",
   "metadata": {},
   "outputs": [],
   "source": [
    "#Generate random samples to simulate potential fluctuations in sales quantity for the next month.\n",
    "std_sales=np.std(sales_data['quantity'])\n"
   ]
  },
  {
   "cell_type": "code",
   "execution_count": 54,
   "id": "05985f03",
   "metadata": {},
   "outputs": [
    {
     "data": {
      "text/plain": [
       "array([5.95072865, 7.35304628, 3.24329935, 4.67669001, 3.71510627,\n",
       "       5.61213058, 4.80677503, 0.6431106 , 6.05435956, 4.52080382])"
      ]
     },
     "execution_count": 54,
     "metadata": {},
     "output_type": "execute_result"
    }
   ],
   "source": [
    "rand_fluct=np.random.normal(avgQntSoldTrans,std_sales,len(sales_data))\n",
    "rand_fluct"
   ]
  },
  {
   "cell_type": "code",
   "execution_count": 55,
   "id": "f69bb08a",
   "metadata": {},
   "outputs": [
    {
     "data": {
      "text/plain": [
       "array([10.95072865, 10.35304628,  5.24329935,  8.67669001,  9.71510627,\n",
       "       13.61213058,  7.80677503, 10.6431106 , 10.05435956, 11.52080382])"
      ]
     },
     "execution_count": 55,
     "metadata": {},
     "output_type": "execute_result"
    }
   ],
   "source": [
    "nxtMonthSales=sales_data['quantity']+rand_fluct\n",
    "nxtMonthSales"
   ]
  },
  {
   "cell_type": "code",
   "execution_count": 56,
   "id": "f74def0e",
   "metadata": {},
   "outputs": [
    {
     "name": "stdout",
     "output_type": "stream",
     "text": [
      "Array Shape:  (2, 2, 4)\n",
      "Desired Row of Elements:  [[ 1 11]\n",
      " [10  7]]\n"
     ]
    }
   ],
   "source": [
    "import numpy as np\n",
    "\n",
    "# Initialize an array\n",
    "arr = np.array([[[1, 2, 9, 8],\n",
    "                 [11, 0, 3, 4]],\n",
    "                [[10, 14, 9, 6],\n",
    "                 [7, 8, 5, 12]]])\n",
    "\n",
    "# Print shape of array\n",
    "print('Array Shape: ',arr.shape)\n",
    "\n",
    "# Get the desired row\n",
    "row = arr[:, :, 0]\n",
    "print('Desired Row of Elements: ', row)"
   ]
  }
 ],
 "metadata": {
  "kernelspec": {
   "display_name": "Python 3 (ipykernel)",
   "language": "python",
   "name": "python3"
  },
  "language_info": {
   "codemirror_mode": {
    "name": "ipython",
    "version": 3
   },
   "file_extension": ".py",
   "mimetype": "text/x-python",
   "name": "python",
   "nbconvert_exporter": "python",
   "pygments_lexer": "ipython3",
   "version": "3.11.4"
  }
 },
 "nbformat": 4,
 "nbformat_minor": 5
}
